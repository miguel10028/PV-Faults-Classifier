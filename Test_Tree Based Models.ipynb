{
 "cells": [
  {
   "cell_type": "markdown",
   "metadata": {},
   "source": [
    "# Import Resources"
   ]
  },
  {
   "cell_type": "code",
   "execution_count": 1,
   "metadata": {},
   "outputs": [],
   "source": [
    "import os\n",
    "import matplotlib.pyplot as plt\n",
    "import numpy as np\n",
    "import pandas as pd\n",
    "import cv2\n",
    "import tensorflow as tf\n",
    "from tensorflow.keras.applications import VGG16\n",
    "from tensorflow.keras.preprocessing import image\n",
    "from tensorflow.keras.applications.imagenet_utils import preprocess_input\n",
    "import numpy as np\n",
    "from sshtunnel import SSHTunnelForwarder\n",
    "import pandas as pd\n",
    "import pymysql\n",
    "import xgboost as xgb\n",
    "from sklearn.model_selection import train_test_split\n",
    "from sklearn.metrics import accuracy_score\n",
    "from sklearn.preprocessing import OneHotEncoder\n",
    "from sklearn.preprocessing import MinMaxScaler\n",
    "from sklearn.tree import DecisionTreeClassifier\n",
    "from sklearn.model_selection import GridSearchCV\n"
   ]
  },
  {
   "cell_type": "markdown",
   "metadata": {},
   "source": [
    "# **DATA BASE**"
   ]
  },
  {
   "cell_type": "code",
   "execution_count": 2,
   "metadata": {},
   "outputs": [],
   "source": [
    "## VARIABLE DEFINITIONS\n",
    "\n",
    "ssh_ip_address = ''\n",
    "ssh_p_username = ''\n",
    "ssh_p_password = \"\"\n",
    "ssh_port = 22\n",
    "ssh_remote_bind_address = 3306\n",
    "db_server_ip = ''\n",
    "db_server_port = 3306\n",
    "db_user = ''\n",
    "db_user_password = ''\n",
    "db_name = ''\n",
    "\n",
    "## SSH CONNECTION\n",
    "\n",
    "tunnel = SSHTunnelForwarder((ssh_ip_address, 22), ssh_password=ssh_p_password, ssh_username=ssh_p_username,\n",
    "                            remote_bind_address=('127.0.0.1', 3306))\n",
    "tunnel.start()\n",
    "# Establish an SSH tunnel to the remote server using the specified IP address, port, username, and password\n",
    "# The tunnel will bind to the local address '127.0.0.1' and port 3306\n",
    "\n",
    "# MYSQL CONNECTION\n",
    "db = pymysql.connect(host='localhost', port=tunnel.local_bind_port, user=ssh_p_username,\n",
    "                          passwd=db_user_password, db=db_name)\n",
    "# Establish a connection to the MySQL server using the local bind port of the SSH tunnel, username, password, and database name\n",
    "\n",
    "\n",
    "# Create a cursor object to execute SQL queries on the database\n",
    "cur = db.cursor()"
   ]
  },
  {
   "cell_type": "code",
   "execution_count": 3,
   "metadata": {},
   "outputs": [],
   "source": [
    "# SQL query to select all data from the table\n",
    "query = \"SELECT * FROM TI_PV_main;\"\n",
    "# Execute the query\n",
    "cur.execute(query)\n",
    "# Fetch all the rows\n",
    "rows1 = cur.fetchall()\n",
    "\n",
    "# SQL query to select all data from the table\n",
    "query = \"SELECT * FROM TI_PV_branch;\"\n",
    "# Execute the query\n",
    "cur.execute(query)\n",
    "# Fetch all the rows\n",
    "rows2 = cur.fetchall()\n",
    "\n",
    "\n",
    "df1 = pd.DataFrame(rows1)\n",
    "df2 = pd.DataFrame(rows2)\n",
    "\n",
    "# Drop two columns from the first DataFrame\n",
    "columns_to_drop = [0, 1]\n",
    "df2 = df2.drop(columns=columns_to_drop)\n",
    "\n",
    "# # Concatenate the DataFrames\n",
    "df_c = pd.concat([df1, df2], axis=1)\n",
    "Labels=df_c[df_c.columns[1]].tolist()\n",
    "\n",
    "X= df_c.drop(df_c.columns[:2], axis=1)\n",
    "\n",
    "# Modify labels\n",
    "for i in range(0,len(Labels)):\n",
    "    if Labels[i] =='No-Anomaly':\n",
    "        pass\n",
    "    else:\n",
    "        Labels[i]='Anomaly'\n",
    "\n",
    "\n",
    "# Create an instance of the MinMaxScaler\n",
    "scaler = MinMaxScaler()\n",
    "# Normalize the data in the DataFrame\n",
    "X = pd.DataFrame(scaler.fit_transform(X), columns=X.columns)\n",
    "y=Labels\n",
    "\n"
   ]
  },
  {
   "cell_type": "code",
   "execution_count": 4,
   "metadata": {},
   "outputs": [],
   "source": [
    "y=Labels"
   ]
  },
  {
   "cell_type": "markdown",
   "metadata": {},
   "source": [
    "# Prepared data for training"
   ]
  },
  {
   "cell_type": "code",
   "execution_count": 14,
   "metadata": {},
   "outputs": [],
   "source": [
    "# Split the data into training and testing sets\n",
    "X_train, X_test, y_train, y_test = train_test_split(X, y, test_size=0.1, random_state=55)"
   ]
  },
  {
   "cell_type": "code",
   "execution_count": 46,
   "metadata": {},
   "outputs": [],
   "source": [
    "# To select the top 20 most important features using mutual_info_classif:\n",
    "from sklearn.feature_selection import SelectKBest, mutual_info_classif\n",
    "selector = SelectKBest(score_func=mutual_info_classif, k=300) \n",
    "X_selected = selector.fit_transform(X, y)\n",
    "#X_selected=X"
   ]
  },
  {
   "cell_type": "markdown",
   "metadata": {},
   "source": [
    "# SIMPLE DECISION TREE"
   ]
  },
  {
   "cell_type": "code",
   "execution_count": 11,
   "metadata": {},
   "outputs": [],
   "source": [
    "from sklearn.tree import DecisionTreeClassifier\n",
    "from sklearn.model_selection import GridSearchCV\n",
    "\n",
    "# # Define the hyperparameters to tune\n",
    "# parameters = {\n",
    "#     'max_depth': [2, 4],\n",
    "#     'min_samples_split': [2],\n",
    "#     'min_samples_leaf': [1]\n",
    "# }\n",
    "\n",
    "# # Create the Decision Tree model\n",
    "# model = DecisionTreeClassifier()\n",
    "\n",
    "# # Create the GridSearchCV object\n",
    "# grid_search = GridSearchCV(estimator=model, \n",
    "#                            param_grid=parameters, \n",
    "#                            refit='r2', \n",
    "#                            cv=2,\n",
    "#                            #verbose=4 # how much information we wannna print\n",
    "# )\n",
    "\n",
    "# # Perform Grid Search\n",
    "# grid_search.fit(X, y)\n",
    "\n",
    "# # Get the best parameters and the best score\n",
    "# best_params = grid_search.best_params_\n",
    "# best_score = grid_search.best_score_\n",
    "\n",
    "# # Print the results\n",
    "# print(\"Best parameters:\", best_params)\n",
    "# print(\"Best score:\", best_score)"
   ]
  },
  {
   "cell_type": "markdown",
   "metadata": {},
   "source": [
    "Save results of Grid Search in a .csv file"
   ]
  },
  {
   "cell_type": "code",
   "execution_count": 15,
   "metadata": {},
   "outputs": [],
   "source": [
    "# df= pd.DataFrame(grid_search.cv_results_)\n",
    "# df.to_csv(\"GS_results_DecisionTreeSimple\")"
   ]
  },
  {
   "cell_type": "markdown",
   "metadata": {},
   "source": [
    "Save the best model"
   ]
  },
  {
   "cell_type": "code",
   "execution_count": 9,
   "metadata": {},
   "outputs": [],
   "source": [
    "import pickle\n",
    "\n",
    "# # Train the model and get the best model with GridSearchCV\n",
    "# best_model = grid_search.best_estimator_\n",
    "\n",
    "# # Save the model to a file\n",
    "# model_file = 'best_model_DecisionTreeeSimple.pkl'\n",
    "# with open(model_file, 'wb') as f:\n",
    "#     pickle.dump(best_model, f)\n",
    "\n"
   ]
  },
  {
   "cell_type": "markdown",
   "metadata": {},
   "source": [
    "## Bagging"
   ]
  },
  {
   "cell_type": "code",
   "execution_count": null,
   "metadata": {},
   "outputs": [],
   "source": [
    "# from sklearn.ensemble import BaggingClassifier\n",
    "\n",
    "\n",
    "# # Define the hyperparameters to tune\n",
    "# parameters = {\n",
    "#     'base_estimator__max_depth': [2, 4, 6, 8],\n",
    "#     'base_estimator__min_samples_split': [2, 4, 6, 8],\n",
    "#     'base_estimator__min_samples_leaf': [1, 2, 3, 4],\n",
    "#     'n_estimators': [10, 50, 100],\n",
    "#     'max_samples': [0.5, 0.8, 1.0],\n",
    "#     'max_features': [0.5, 0.8, 1.0]\n",
    "# }\n",
    "\n",
    "# # Create the base estimator (Decision Tree)\n",
    "# base_estimator = DecisionTreeClassifier()\n",
    "\n",
    "# # Create the BaggingClassifier model\n",
    "# model = BaggingClassifier(base_estimator=base_estimator)\n",
    "\n",
    "# # Create the GridSearchCV object\n",
    "# grid_search = GridSearchCV(estimator=model,\n",
    "#                            param_grid=parameters,\n",
    "#                            cv=5)\n",
    "\n",
    "# # Perform Grid Search\n",
    "# grid_search.fit(X, y)\n",
    "\n",
    "# # Get the best parameters and the best score\n",
    "# best_params = grid_search.best_params_\n",
    "# best_score = grid_search.best_score_\n",
    "\n",
    "# # Print the results\n",
    "# print(\"Best parameters:\", best_params)\n",
    "# print(\"Best score:\", best_score)"
   ]
  },
  {
   "cell_type": "markdown",
   "metadata": {},
   "source": [
    "## Random Forest"
   ]
  },
  {
   "cell_type": "code",
   "execution_count": null,
   "metadata": {},
   "outputs": [],
   "source": [
    "# from sklearn.ensemble import RandomForestClassifier\n",
    "\n",
    "# # Define the hyperparameters to tune\n",
    "# parameters = {\n",
    "#     'n_estimators': [100, 200, 300],\n",
    "#     'max_depth': [2, 5, 10],\n",
    "#     'min_samples_split': [2, 5, 10],\n",
    "#     'min_samples_leaf': [1, 2, 4]\n",
    "# }\n",
    "\n",
    "# # Create the Random Forest model\n",
    "# model = RandomForestClassifier()\n",
    "\n",
    "# # Create the GridSearchCV object\n",
    "# grid_search = GridSearchCV(estimator=model, param_grid=parameters, cv=5)\n",
    "\n",
    "# # Perform Grid Search\n",
    "# grid_search.fit(X, y)\n",
    "\n",
    "# # Get the best parameters and the best score\n",
    "# best_params = grid_search.best_params_\n",
    "# best_score = grid_search.best_score_\n",
    "\n",
    "# # Print the results\n",
    "# print(\"Best parameters:\", best_params)\n",
    "# print(\"Best score:\", best_score)"
   ]
  },
  {
   "cell_type": "markdown",
   "metadata": {},
   "source": [
    "## Gradient Boosting"
   ]
  },
  {
   "cell_type": "code",
   "execution_count": null,
   "metadata": {},
   "outputs": [],
   "source": [
    "# from sklearn.ensemble import GradientBoostingClassifier\n",
    "\n",
    "# # Define the hyperparameters to tune\n",
    "# parameters = {\n",
    "#     'n_estimators': [100, 200, 300],\n",
    "#     'learning_rate': [0.01, 0.1, 0.2],\n",
    "#     'max_depth': [3, 5, 7],\n",
    "#     'min_samples_split': [2, 5, 10],\n",
    "#     'min_samples_leaf': [1, 2, 4]\n",
    "# }\n",
    "\n",
    "# # Create the Gradient Boosting model\n",
    "# model = GradientBoostingClassifier()\n",
    "\n",
    "# # Create the GridSearchCV object\n",
    "# grid_search = GridSearchCV(estimator=model, param_grid=parameters, cv=5)\n",
    "\n",
    "# # Perform Grid Search\n",
    "# grid_search.fit(X, y)\n",
    "\n",
    "# # Get the best parameters and the best score\n",
    "# best_params = grid_search.best_params_\n",
    "# best_score = grid_search.best_score_\n",
    "\n",
    "# # Print the results\n",
    "# print(\"Best parameters:\", best_params)\n",
    "# print(\"Best score:\", best_score)"
   ]
  }
 ],
 "metadata": {
  "kernelspec": {
   "display_name": "Python 3",
   "language": "python",
   "name": "python3"
  },
  "language_info": {
   "codemirror_mode": {
    "name": "ipython",
    "version": 3
   },
   "file_extension": ".py",
   "mimetype": "text/x-python",
   "name": "python",
   "nbconvert_exporter": "python",
   "pygments_lexer": "ipython3",
   "version": "3.11.3"
  },
  "orig_nbformat": 4
 },
 "nbformat": 4,
 "nbformat_minor": 2
}
