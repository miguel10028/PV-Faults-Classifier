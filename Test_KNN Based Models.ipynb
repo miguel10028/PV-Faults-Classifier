{
 "cells": [
  {
   "cell_type": "markdown",
   "metadata": {},
   "source": [
    "# Import Resources"
   ]
  },
  {
   "cell_type": "code",
   "execution_count": 1,
   "metadata": {},
   "outputs": [],
   "source": [
    "import os\n",
    "import matplotlib.pyplot as plt\n",
    "import numpy as np\n",
    "import pandas as pd\n",
    "import cv2\n",
    "import tensorflow as tf\n",
    "from tensorflow.keras.applications import VGG16\n",
    "from tensorflow.keras.preprocessing import image\n",
    "from tensorflow.keras.applications.imagenet_utils import preprocess_input\n",
    "import numpy as np\n",
    "from sshtunnel import SSHTunnelForwarder\n",
    "import pandas as pd\n",
    "import pymysql\n",
    "import xgboost as xgb\n",
    "from sklearn.model_selection import train_test_split\n",
    "from sklearn.metrics import accuracy_score\n",
    "from sklearn.preprocessing import OneHotEncoder\n",
    "from sklearn.preprocessing import MinMaxScaler\n",
    "from sklearn.tree import DecisionTreeClassifier\n",
    "from sklearn.model_selection import GridSearchCV\n"
   ]
  },
  {
   "cell_type": "markdown",
   "metadata": {},
   "source": [
    "# **DATA BASE**"
   ]
  },
  {
   "cell_type": "code",
   "execution_count": 2,
   "metadata": {},
   "outputs": [],
   "source": [
    "## VARIABLE DEFINITIONS\n",
    "\n",
    "ssh_ip_address = ''\n",
    "ssh_p_username = ''\n",
    "ssh_p_password = \"\"\n",
    "ssh_port = 22\n",
    "ssh_remote_bind_address = 3306\n",
    "db_server_ip = ''\n",
    "db_server_port = 3306\n",
    "db_user = ''\n",
    "db_user_password = ''\n",
    "db_name = ''\n",
    "\n",
    "## SSH CONNECTION\n",
    "\n",
    "tunnel = SSHTunnelForwarder((ssh_ip_address, 22), ssh_password=ssh_p_password, ssh_username=ssh_p_username,\n",
    "                            remote_bind_address=('127.0.0.1', 3306))\n",
    "tunnel.start()\n",
    "# Establish an SSH tunnel to the remote server using the specified IP address, port, username, and password\n",
    "# The tunnel will bind to the local address '127.0.0.1' and port 3306\n",
    "\n",
    "# MYSQL CONNECTION\n",
    "db = pymysql.connect(host='localhost', port=tunnel.local_bind_port, user=ssh_p_username,\n",
    "                          passwd=db_user_password, db=db_name)\n",
    "# Establish a connection to the MySQL server using the local bind port of the SSH tunnel, username, password, and database name\n",
    "\n",
    "\n",
    "# Create a cursor object to execute SQL queries on the database\n",
    "cur = db.cursor()"
   ]
  },
  {
   "cell_type": "code",
   "execution_count": 3,
   "metadata": {},
   "outputs": [],
   "source": [
    "# SQL query to select all data from the table\n",
    "query = \"SELECT * FROM TI_PV_main;\"\n",
    "# Execute the query\n",
    "cur.execute(query)\n",
    "# Fetch all the rows\n",
    "rows1 = cur.fetchall()\n",
    "\n",
    "# SQL query to select all data from the table\n",
    "query = \"SELECT * FROM TI_PV_branch;\"\n",
    "# Execute the query\n",
    "cur.execute(query)\n",
    "# Fetch all the rows\n",
    "rows2 = cur.fetchall()\n",
    "\n",
    "\n",
    "df1 = pd.DataFrame(rows1)\n",
    "df2 = pd.DataFrame(rows2)\n",
    "\n",
    "# Drop two columns from the first DataFrame\n",
    "columns_to_drop = [0, 1]\n",
    "df2 = df2.drop(columns=columns_to_drop)\n",
    "\n",
    "# # Concatenate the DataFrames\n",
    "df_c = pd.concat([df1, df2], axis=1)\n",
    "Labels=df_c[df_c.columns[1]].tolist()\n",
    "\n",
    "X= df_c.drop(df_c.columns[:2], axis=1)\n",
    "\n",
    "# Modify labels\n",
    "for i in range(0,len(Labels)):\n",
    "    if Labels[i] =='No-Anomaly':\n",
    "        pass\n",
    "    else:\n",
    "        Labels[i]='Anomaly'\n",
    "\n",
    "\n",
    "# Create an instance of the MinMaxScaler\n",
    "scaler = MinMaxScaler()\n",
    "# Normalize the data in the DataFrame\n",
    "X = pd.DataFrame(scaler.fit_transform(X), columns=X.columns)\n",
    "y=Labels\n",
    "\n"
   ]
  },
  {
   "cell_type": "code",
   "execution_count": 4,
   "metadata": {},
   "outputs": [],
   "source": [
    "y=Labels"
   ]
  },
  {
   "cell_type": "markdown",
   "metadata": {},
   "source": [
    "# Prepared data for training"
   ]
  },
  {
   "cell_type": "code",
   "execution_count": 5,
   "metadata": {},
   "outputs": [],
   "source": [
    "# Split the data into training and testing sets\n",
    "X_train, X_test, y_train, y_test = train_test_split(X, y, test_size=0.1, random_state=55)"
   ]
  },
  {
   "cell_type": "code",
   "execution_count": 6,
   "metadata": {},
   "outputs": [],
   "source": [
    "# To select the top 20 most important features using mutual_info_classif:  https://scikit-learn.org/stable/modules/feature_selection.html#univariate-feature-selection\n",
    "from sklearn.feature_selection import SelectKBest, mutual_info_classif\n",
    "selector = SelectKBest(score_func=mutual_info_classif, k=10) \n",
    "X_selected = selector.fit_transform(X, y)\n",
    "X_train, X_test, y_train, y_test = train_test_split(X_selected, y, test_size=0.1, random_state=55)"
   ]
  },
  {
   "cell_type": "code",
   "execution_count": 6,
   "metadata": {},
   "outputs": [
    {
     "data": {
      "text/plain": [
       "(18000, 1000)"
      ]
     },
     "execution_count": 6,
     "metadata": {},
     "output_type": "execute_result"
    }
   ],
   "source": [
    "X_train.shape"
   ]
  },
  {
   "cell_type": "markdown",
   "metadata": {},
   "source": [
    "# Nearest centroid classifier"
   ]
  },
  {
   "cell_type": "code",
   "execution_count": 8,
   "metadata": {},
   "outputs": [],
   "source": [
    "from sklearn import datasets\n",
    "from sklearn.model_selection import train_test_split\n",
    "from sklearn import model_selection\n",
    "from sklearn import preprocessing\n",
    "from sklearn import linear_model\n",
    "from sklearn import neighbors\n",
    "from sklearn import metrics\n"
   ]
  },
  {
   "cell_type": "code",
   "execution_count": 46,
   "metadata": {},
   "outputs": [
    {
     "name": "stdout",
     "output_type": "stream",
     "text": [
      "(1347, 64) (450, 64)\n"
     ]
    }
   ],
   "source": [
    "# baseline\n",
    "data= datasets.load_digits()\n",
    "X_train1, X_test1, y_train1,y_test1 = train_test_split(data.data, data.target)\n",
    "print(X_train1.shape , X_test1.shape)"
   ]
  },
  {
   "cell_type": "code",
   "execution_count": 47,
   "metadata": {},
   "outputs": [
    {
     "name": "stdout",
     "output_type": "stream",
     "text": [
      "Acurracy: 0.8888888888888888\n",
      "Confusion Matrix: 0.8888888888888888\n"
     ]
    }
   ],
   "source": [
    "clf= neighbors.NearestCentroid(metric='correlation',shrink_threshold=0.5) #{'minkowski', 'braycurtis', 'hamming', 'russellrao', 'euclidean', 'cosine', 'correlation', 'dice', 'l2', 'cityblock', 'haversine', 'kulsinski', 'sokalmichener', 'sokalsneath', 'jaccard', 'yule', 'manhattan', 'l1', 'rogerstanimoto', 'chebyshev', 'sqeuclidean', 'matching', 'canberra', 'nan_euclidean'}\n",
    "clf.fit(X_train,y_train)\n",
    "\n",
    "y_pred= clf.predict(X_test)\n",
    "\n",
    "acu= metrics.accuracy_score(y_test, y_pred)\n",
    "print( 'Acurracy:', acu)\n",
    "\n",
    "cm= metrics.confusion_matrix(y_test, y_pred)\n",
    "print( 'Confusion Matrix:', acu)\n",
    "\n"
   ]
  },
  {
   "cell_type": "markdown",
   "metadata": {},
   "source": [
    "# K Neghbors Classifier"
   ]
  },
  {
   "cell_type": "code",
   "execution_count": 48,
   "metadata": {},
   "outputs": [
    {
     "name": "stdout",
     "output_type": "stream",
     "text": [
      "Acurracy: 0.96\n",
      "Confusion Matrix: 0.96\n"
     ]
    }
   ],
   "source": [
    "clf= neighbors.KNeighborsClassifier(n_neighbors=30 , algorithm=\"auto\") # algorithm= {‘auto’, ‘ball_tree’, ‘kd_tree’, ‘brute’}, default=’auto’\n",
    "clf.fit(X_train,y_train)\n",
    "\n",
    "y_pred= clf.predict(X_test)\n",
    "\n",
    "acu= metrics.accuracy_score(y_test, y_pred)\n",
    "print( 'Acurracy:', acu)\n",
    "\n",
    "cm= metrics.confusion_matrix(y_test, y_pred)\n",
    "print( 'Confusion Matrix:', acu)\n"
   ]
  },
  {
   "cell_type": "markdown",
   "metadata": {},
   "source": [
    "# K neihbors +  NCA (Neighborhood component analysis)"
   ]
  },
  {
   "cell_type": "code",
   "execution_count": 13,
   "metadata": {},
   "outputs": [
    {
     "data": {
      "text/plain": [
       "(18000, 10)"
      ]
     },
     "execution_count": 13,
     "metadata": {},
     "output_type": "execute_result"
    }
   ],
   "source": [
    "X_train.shape"
   ]
  },
  {
   "cell_type": "code",
   "execution_count": 64,
   "metadata": {},
   "outputs": [
    {
     "name": "stdout",
     "output_type": "stream",
     "text": [
      "NeighborhoodComponentsAnalysis(n_components=63)\n"
     ]
    }
   ],
   "source": [
    "nca = neighbors.NeighborhoodComponentsAnalysis(n_components=63)\n",
    "nca.fit(X_train,y_train)\n",
    "print(nca)"
   ]
  },
  {
   "cell_type": "code",
   "execution_count": 65,
   "metadata": {},
   "outputs": [
    {
     "name": "stdout",
     "output_type": "stream",
     "text": [
      "Acurracy: 0.98\n",
      "Confusion Matrix: 0.98\n"
     ]
    }
   ],
   "source": [
    "#KNN\n",
    "clf= neighbors.KNeighborsClassifier()\n",
    "clf.fit(nca.transform(X_train),y_train)\n",
    "\n",
    "y_pred= clf.predict(nca.transform(X_test))\n",
    "\n",
    "acu= metrics.accuracy_score(y_test, y_pred)\n",
    "print( 'Acurracy:', acu)\n",
    "\n",
    "cm= metrics.confusion_matrix(y_test, y_pred)\n",
    "print( 'Confusion Matrix:', acu)"
   ]
  },
  {
   "cell_type": "markdown",
   "metadata": {},
   "source": [
    "# Radius Neighbors Classifier"
   ]
  },
  {
   "cell_type": "code",
   "execution_count": 66,
   "metadata": {},
   "outputs": [
    {
     "data": {
      "text/plain": [
       "(1347, 64)"
      ]
     },
     "execution_count": 66,
     "metadata": {},
     "output_type": "execute_result"
    }
   ],
   "source": [
    "X_train.shape"
   ]
  },
  {
   "cell_type": "code",
   "execution_count": 72,
   "metadata": {},
   "outputs": [
    {
     "name": "stdout",
     "output_type": "stream",
     "text": [
      "Acurracy: 0.9755555555555555\n",
      "Confusion Matrix: 0.9755555555555555\n"
     ]
    }
   ],
   "source": [
    "#KNN\n",
    "clf= neighbors.RadiusNeighborsClassifier(radius=29)\n",
    "clf.fit(X_train,y_train)\n",
    "\n",
    "y_pred= clf.predict(X_test)\n",
    "\n",
    "acu= metrics.accuracy_score(y_test, y_pred)\n",
    "print( 'Acurracy:', acu)\n",
    "\n",
    "cm= metrics.confusion_matrix(y_test, y_pred)\n",
    "print( 'Confusion Matrix:', acu)"
   ]
  },
  {
   "cell_type": "markdown",
   "metadata": {},
   "source": [
    "# Precompute k nearest neighbors"
   ]
  },
  {
   "cell_type": "code",
   "execution_count": 37,
   "metadata": {},
   "outputs": [
    {
     "data": {
      "text/plain": [
       "(18000, 1000)"
      ]
     },
     "execution_count": 37,
     "metadata": {},
     "output_type": "execute_result"
    }
   ],
   "source": [
    "X_train.shape"
   ]
  },
  {
   "cell_type": "code",
   "execution_count": 73,
   "metadata": {},
   "outputs": [
    {
     "name": "stdout",
     "output_type": "stream",
     "text": [
      "KNeighborsTransformer(algorithm='brute')\n"
     ]
    }
   ],
   "source": [
    "graph= neighbors.KNeighborsTransformer(mode='distance',n_neighbors=5, algorithm='brute') #mode{‘distance’, ‘connectivity’}, default=’distance’   algorithm{‘auto’, ‘ball_tree’, ‘kd_tree’, ‘brute’}, default=’auto’\n",
    "graph.fit(X_train, y_train)\n",
    "print(graph)"
   ]
  },
  {
   "cell_type": "code",
   "execution_count": 74,
   "metadata": {},
   "outputs": [
    {
     "name": "stdout",
     "output_type": "stream",
     "text": [
      "Acurracy: 0.9733333333333334\n",
      "Confusion Matrix: 0.9733333333333334\n"
     ]
    }
   ],
   "source": [
    "#KNN\n",
    "clf= neighbors.KNeighborsClassifier(n_neighbors=1, weights= \"distance\")\n",
    "clf.fit(graph.transform(X_train),y_train)\n",
    "\n",
    "y_pred= clf.predict(graph.transform(X_test))\n",
    "\n",
    "acu= metrics.accuracy_score(y_test, y_pred)\n",
    "print( 'Acurracy:', acu)\n",
    "\n",
    "cm= metrics.confusion_matrix(y_test, y_pred)\n",
    "print( 'Confusion Matrix:', acu)"
   ]
  }
 ],
 "metadata": {
  "kernelspec": {
   "display_name": "Python 3",
   "language": "python",
   "name": "python3"
  },
  "language_info": {
   "codemirror_mode": {
    "name": "ipython",
    "version": 3
   },
   "file_extension": ".py",
   "mimetype": "text/x-python",
   "name": "python",
   "nbconvert_exporter": "python",
   "pygments_lexer": "ipython3",
   "version": "3.11.3"
  },
  "orig_nbformat": 4
 },
 "nbformat": 4,
 "nbformat_minor": 2
}
